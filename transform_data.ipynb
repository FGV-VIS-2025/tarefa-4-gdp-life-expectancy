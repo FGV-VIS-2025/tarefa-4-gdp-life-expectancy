{
 "cells": [
  {
   "cell_type": "code",
   "execution_count": 13,
   "metadata": {},
   "outputs": [],
   "source": [
    "import pandas as pd"
   ]
  },
  {
   "cell_type": "code",
   "execution_count": 14,
   "metadata": {},
   "outputs": [],
   "source": [
    "gdp = pd.read_csv(\"data/gdp_pcap.csv\")\n",
    "life_expectancy = pd.read_csv(\"data/lex.csv\")"
   ]
  },
  {
   "cell_type": "code",
   "execution_count": 15,
   "metadata": {},
   "outputs": [],
   "source": [
    "gdp_long = pd.melt(gdp, id_vars=['country'], var_name='year', value_name='gdp')\n",
    "life_expectancy_long = pd.melt(life_expectancy, id_vars=['country'], var_name='year', value_name='lex')"
   ]
  },
  {
   "cell_type": "code",
   "execution_count": 16,
   "metadata": {},
   "outputs": [],
   "source": [
    "merged_df = pd.merge(gdp_long, life_expectancy_long, on=['country', 'year'])"
   ]
  },
  {
   "cell_type": "code",
   "execution_count": 18,
   "metadata": {},
   "outputs": [],
   "source": [
    "import numpy as np\n",
    "def convert_gdp(value):\n",
    "    if isinstance(value, str):\n",
    "        value = value.strip()\n",
    "        if 'k' in value:\n",
    "            return float(value.replace('k', '')) * 1000\n",
    "        try:\n",
    "            return float(value)\n",
    "        except ValueError:\n",
    "            return np.nan\n",
    "    elif isinstance(value, (int, float)):\n",
    "        return value\n",
    "    return np.nan\n",
    "\n",
    "merged_df['gdp'] = merged_df['gdp'].apply(convert_gdp)"
   ]
  },
  {
   "cell_type": "code",
   "execution_count": 20,
   "metadata": {},
   "outputs": [],
   "source": [
    "merged_df.to_csv(\"data/gdp-life-expectancy.csv\")"
   ]
  }
 ],
 "metadata": {
  "kernelspec": {
   "display_name": "Python 3",
   "language": "python",
   "name": "python3"
  },
  "language_info": {
   "codemirror_mode": {
    "name": "ipython",
    "version": 3
   },
   "file_extension": ".py",
   "mimetype": "text/x-python",
   "name": "python",
   "nbconvert_exporter": "python",
   "pygments_lexer": "ipython3",
   "version": "3.13.1"
  }
 },
 "nbformat": 4,
 "nbformat_minor": 2
}
